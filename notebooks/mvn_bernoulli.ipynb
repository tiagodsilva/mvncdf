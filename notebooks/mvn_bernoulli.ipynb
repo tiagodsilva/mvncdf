{
 "cells": [
  {
   "cell_type": "markdown",
   "id": "1da6dddb",
   "metadata": {},
   "source": [
    "# Ising model (kind of)\n",
    "\n",
    "When dealing with binary events, the Gaussian distribution is (at least) an unreasonable choice. Instead, a multivariate Bernoulli distribution with a properly accounted for graphical structure works best. \n",
    "\n",
    "This notebook considers the model \n",
    "\n",
    "$$\n",
    "f(p_{1}, \\dots, p_{N} | x_{1}, \\dots, x_{N}) \\propto \\prod_{1 \\le n, m \\le N} (p_{n}p_{m})^{\\frac{x_{n}x_{m}}{2} \\cdot \\sigma_{nm}}, \n",
    "$$\n",
    "\n",
    "in which $x_{n}, x_{m} \\in \\{-1, 1\\}$. Alternatively, this may be written as \n",
    "\n",
    "$$\n",
    "f(p_{1}, \\dots, p_{N} | x_{1}, \\dots, x_{N}) \\propto \\prod_{1 \\le n \\le N} p_{n}^{\\sum_{1 \\le m \\le N} \\frac{x_{n}x_{m}}{2} \\sigma_{n, m}}, \n",
    "$$\n",
    "\n",
    "which (in contrast to its Gaussian counterpart) can be easily interpreted. The normalizing factor is \n",
    "\n",
    "$$\n",
    "\\int_{p_{1}, \\dots, p_{N}} f(p_{1}, \\dots, p_{N} | x_{1}, \\dots, x_{N}) \\mathrm{d}p_{1} \\dots \\mathrm{d}p_{N} = \\prod_{n} \\int_{[0, 1]} p_{n}^{\\sum_{m} \\frac{x_{n}x_{m}}{2}\\sigma_{nm}} \\mathrm{d} p_{n} = \\prod_{n} \\frac{1}{1 + \\sum_{m} \\frac{x_{n} x_{m}}{2} \\sigma_{nm}}. \n",
    "$$\n",
    "\n",
    "This assumes that the function is integrable, i.e., that the above summation is larger than -1. This might be achived by truncation. From a probabilistic perspective, this may be perceived as \"the minimum correlation\" between a collection of elements. \n",
    "\n",
    "On the other hand, \n",
    "\n",
    "$$\n",
    "\\int_{p_{1}, \\dots, p_{N}} f(p_{1}, \\dots, p_{N} | x_{1}, \\dots, x_{N}) \\mathrm{d}p_{1} \\dots \\mathrm{d}p_{N} = \\prod_{n} \\int_{[0, a_{n}]} p_{n}^{\\sum_{m} \\frac{x_{n}x_{m}}{2}\\sigma_{nm}} \\mathrm{d} p_{n} = \\prod_{n} \\frac{a_{n}^{1 + \\sum_{m} \\frac{x_{n} x_{m}}{2} \\sigma_{nm}}}{1 + \\sum_{m} \\frac{x_{n} x_{m}}{2} \\sigma_{nm}}. \n",
    "$$ \n",
    "\n",
    "So a reasonable probability estimate would be the fraction between the former and the latter quantities, namely, \n",
    "\n",
    "$$\n",
    "\\prod_{n} a_{n}^{1 + \\sum_{m} \\frac{x_{n} x_{m}}{2} \\sigma_{nm}} = \\exp \\left\\{ \\sum_{n} \\left({1 + \\sum_{m} \\frac{x_{n} x_{m}}{2} \\sigma_{nm}}\\right) \\log a_{n} \\right\\}. \n",
    "$$"
   ]
  },
  {
   "cell_type": "code",
   "execution_count": 8,
   "id": "6b307f24",
   "metadata": {},
   "outputs": [],
   "source": [
    "import torch\n",
    "import sys\n",
    "import scipy.stats\n",
    "\n",
    "sys.path.append(\"..\")\n",
    "\n",
    "from mvn_torch import mvn_cdf_torch"
   ]
  },
  {
   "cell_type": "code",
   "execution_count": 82,
   "id": "c19c56ff",
   "metadata": {},
   "outputs": [],
   "source": [
    "def bernoulli_cdf(p: torch.Tensor, cov: torch.Tensor, x: torch.Tensor):\n",
    "    x = x.reshape(-1, 1) @ x.reshape(1, -1) # Outer product\n",
    "    sigma = cov * x / 2\n",
    "    sigma_sum = 1 + sigma.sum(dim=1)\n",
    "\n",
    "    log_p = (\n",
    "        torch.log(p) * sigma_sum\n",
    "    ).sum(dim=0)\n",
    "\n",
    "    return torch.exp(log_p)"
   ]
  },
  {
   "cell_type": "code",
   "execution_count": 90,
   "id": "d0b2863c",
   "metadata": {},
   "outputs": [
    {
     "data": {
      "text/plain": [
       "tensor(0.2176)"
      ]
     },
     "execution_count": 90,
     "metadata": {},
     "output_type": "execute_result"
    }
   ],
   "source": [
    "p = torch.tensor([0.5, 0.5])\n",
    "pho = 0.8\n",
    "cov = torch.tensor([[1, pho], [pho, 1]])\n",
    "x = torch.tensor([1, -1])\n",
    "\n",
    "bernoulli_cdf(p, cov, x)"
   ]
  },
  {
   "cell_type": "code",
   "execution_count": 68,
   "id": "d87c23fb",
   "metadata": {},
   "outputs": [
    {
     "data": {
      "text/plain": [
       "tensor(0.3333)"
      ]
     },
     "execution_count": 68,
     "metadata": {},
     "output_type": "execute_result"
    }
   ],
   "source": [
    "a = scipy.stats.norm.ppf(p.numpy())\n",
    "a = torch.tensor(a)\n",
    "mvn_cdf_torch(a, torch.zeros_like(p), torch.cholesky(cov))"
   ]
  }
 ],
 "metadata": {
  "kernelspec": {
   "display_name": "classical-ml",
   "language": "python",
   "name": "python3"
  },
  "language_info": {
   "codemirror_mode": {
    "name": "ipython",
    "version": 3
   },
   "file_extension": ".py",
   "mimetype": "text/x-python",
   "name": "python",
   "nbconvert_exporter": "python",
   "pygments_lexer": "ipython3",
   "version": "3.12.8"
  }
 },
 "nbformat": 4,
 "nbformat_minor": 5
}
